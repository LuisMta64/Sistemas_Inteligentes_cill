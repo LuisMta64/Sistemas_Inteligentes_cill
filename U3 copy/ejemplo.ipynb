{
 "cells": [
  {
   "cell_type": "code",
   "execution_count": 9,
   "id": "f19e0872",
   "metadata": {},
   "outputs": [],
   "source": [
    "import torch\n",
    "from torch import nn\n",
    "import matplotlib.pyplot as plt\n",
    "import pandas as pd\n",
    "from sklearn.preprocessing import MinMaxScaler\n",
    "from sklearn.model_selection import train_test_split\n",
    "from sklearn.metrics import accuracy_score, classification_report, confusion_matrix, ConfusionMatrixDisplay"
   ]
  },
  {
   "cell_type": "code",
   "execution_count": 10,
   "id": "666a4f77",
   "metadata": {},
   "outputs": [
    {
     "data": {
      "text/plain": [
       "'cpu'"
      ]
     },
     "execution_count": 10,
     "metadata": {},
     "output_type": "execute_result"
    }
   ],
   "source": [
    "if torch.cuda.is_available():\n",
    "    device = 'cuda'\n",
    "else:\n",
    "    device = 'cpu'\n",
    "device"
   ]
  },
  {
   "cell_type": "code",
   "execution_count": 11,
   "id": "a906bea0",
   "metadata": {},
   "outputs": [],
   "source": [
    "def prepare_data(name_file):\n",
    "    global X_train, X_test, X_val, y_train, y_test, y_val, scaler\n",
    "    data = pd.read_csv(name_file)\n",
    "    print(data.info())\n",
    "    data = data[['Daily_Usage_Hours', 'Sleep_Hours', 'Academic_Performance']]\n",
    "    X = data.iloc[:,0:2].values\n",
    "    print (X)\n",
    "    y = data.Academic_Performance.values\n",
    "    scaler = MinMaxScaler()\n",
    "    scaler.fit(X)\n",
    "    X = scaler.transform(X)\n",
    "    X_train, X_test, y_train, y_test = train_test_split(X, y, test_size=0.4, random_state=0)\n",
    "    X_val, X_test, y_val, y_test = train_test_split(X_test, y_test, test_size=0.5, random_state=0)"
   ]
  },
  {
   "cell_type": "code",
   "execution_count": 12,
   "id": "200531ac",
   "metadata": {},
   "outputs": [
    {
     "name": "stdout",
     "output_type": "stream",
     "text": [
      "<class 'pandas.core.frame.DataFrame'>\n",
      "RangeIndex: 100 entries, 0 to 99\n",
      "Data columns (total 25 columns):\n",
      " #   Column                  Non-Null Count  Dtype  \n",
      "---  ------                  --------------  -----  \n",
      " 0   ID                      100 non-null    int64  \n",
      " 1   Name                    100 non-null    object \n",
      " 2   Age                     100 non-null    int64  \n",
      " 3   Gender                  100 non-null    object \n",
      " 4   Location                100 non-null    object \n",
      " 5   School_Grade            100 non-null    object \n",
      " 6   Daily_Usage_Hours       100 non-null    float64\n",
      " 7   Sleep_Hours             100 non-null    float64\n",
      " 8   Academic_Performance    100 non-null    int64  \n",
      " 9   Social_Interactions     100 non-null    int64  \n",
      " 10  Exercise_Hours          100 non-null    float64\n",
      " 11  Anxiety_Level           100 non-null    int64  \n",
      " 12  Depression_Level        100 non-null    int64  \n",
      " 13  Self_Esteem             100 non-null    int64  \n",
      " 14  Parental_Control        100 non-null    int64  \n",
      " 15  Screen_Time_Before_Bed  100 non-null    float64\n",
      " 16  Phone_Checks_Per_Day    100 non-null    int64  \n",
      " 17  Apps_Used_Daily         100 non-null    int64  \n",
      " 18  Time_on_Social_Media    100 non-null    float64\n",
      " 19  Time_on_Gaming          100 non-null    float64\n",
      " 20  Time_on_Education       100 non-null    float64\n",
      " 21  Phone_Usage_Purpose     100 non-null    object \n",
      " 22  Family_Communication    100 non-null    int64  \n",
      " 23  Weekend_Usage_Hours     100 non-null    float64\n",
      " 24  Addiction_Level         100 non-null    float64\n",
      "dtypes: float64(9), int64(11), object(5)\n",
      "memory usage: 19.7+ KB\n",
      "None\n",
      "[[ 4.   6.1]\n",
      " [ 5.5  6.5]\n",
      " [ 5.8  5.5]\n",
      " [ 3.1  3.9]\n",
      " [ 2.5  6.7]\n",
      " [ 3.9  6.3]\n",
      " [ 6.3  6.7]\n",
      " [ 5.1  6.1]\n",
      " [ 3.   9.1]\n",
      " [ 3.9  5.8]\n",
      " [ 4.9  7. ]\n",
      " [ 1.6  5.9]\n",
      " [ 7.4  5.8]\n",
      " [ 8.7  5.5]\n",
      " [ 6.4  8.5]\n",
      " [ 4.4  6.6]\n",
      " [ 5.4  7.8]\n",
      " [ 3.   6.1]\n",
      " [ 7.9  8.5]\n",
      " [ 5.4  5.9]\n",
      " [ 3.   5.1]\n",
      " [ 2.7  6.3]\n",
      " [ 2.7  5.1]\n",
      " [ 6.9  3.6]\n",
      " [ 4.6  7.2]\n",
      " [ 5.5  5.9]\n",
      " [ 6.2  4.5]\n",
      " [ 4.9  9.3]\n",
      " [ 6.6  8.1]\n",
      " [ 8.6  5.2]\n",
      " [ 4.1  4.5]\n",
      " [ 4.2  6.9]\n",
      " [ 8.   5.5]\n",
      " [ 3.3  5.3]\n",
      " [ 4.7  6.6]\n",
      " [ 3.9  6.3]\n",
      " [ 4.4  6.8]\n",
      " [ 8.3  6.2]\n",
      " [ 7.4  6.9]\n",
      " [ 1.7  6.8]\n",
      " [ 6.2  8.3]\n",
      " [ 5.2  7.2]\n",
      " [ 3.3  5.3]\n",
      " [ 6.9  6.2]\n",
      " [ 6.6  5. ]\n",
      " [ 1.   6.2]\n",
      " [ 6.7  4.7]\n",
      " [ 7.1  7.1]\n",
      " [ 4.7  6.5]\n",
      " [ 8.1  7.2]\n",
      " [ 4.3  5.9]\n",
      " [ 3.9  8.4]\n",
      " [ 9.   7.3]\n",
      " [ 4.5  7.8]\n",
      " [ 4.4  4.1]\n",
      " [ 5.9  8.5]\n",
      " [ 3.3  6.1]\n",
      " [ 2.9  5.5]\n",
      " [ 3.4  4.7]\n",
      " [ 6.3  7.4]\n",
      " [ 3.7  7.9]\n",
      " [ 4.7  6.9]\n",
      " [ 6.7  7.9]\n",
      " [ 5.3  7.7]\n",
      " [ 8.7  5.2]\n",
      " [ 3.9  8. ]\n",
      " [ 7.4  6.6]\n",
      " [ 6.8 10. ]\n",
      " [ 7.   8. ]\n",
      " [ 5.8  7.2]\n",
      " [ 4.1  5.5]\n",
      " [ 4.9  4.4]\n",
      " [ 4.4  6.6]\n",
      " [ 6.3  3. ]\n",
      " [ 5.8  6.9]\n",
      " [ 6.5  7.2]\n",
      " [ 5.8  7. ]\n",
      " [ 5.1  7. ]\n",
      " [ 5.2  6. ]\n",
      " [ 4.8  8.6]\n",
      " [ 4.3  4.3]\n",
      " [ 7.6  6.4]\n",
      " [ 5.5  6.9]\n",
      " [ 4.8  6.3]\n",
      " [ 7.4  6.3]\n",
      " [ 3.8  5.1]\n",
      " [ 7.3  5.6]\n",
      " [ 0.7  4.6]\n",
      " [ 3.   6.6]\n",
      " [ 4.   7.4]\n",
      " [ 8.1  6.8]\n",
      " [ 5.2  6.6]\n",
      " [ 1.7  6.2]\n",
      " [ 6.8  7.4]\n",
      " [ 6.4 10. ]\n",
      " [ 7.2  7.4]\n",
      " [ 3.3  5.7]\n",
      " [ 4.7  8.5]\n",
      " [ 2.8  7. ]\n",
      " [ 6.2  8.7]]\n"
     ]
    }
   ],
   "source": [
    "prepare_data('teen_phone_addiction_dataset.csv')"
   ]
  },
  {
   "cell_type": "code",
   "execution_count": null,
   "id": "3db54a04",
   "metadata": {},
   "outputs": [],
   "source": [
    "class ClassificationNM(nn.Module):\n",
    "    def __init__ (self):\n",
    "        super().__init__()\n",
    "        self.layer_1 = nn.Linear(in_features=2, out_features=10)\n",
    "        self.layer_2 = nn.Linear(in_features=10, out_features=10)\n",
    "        self.layer_3 = nn.Linear(in_features=10, out_features=1)\n",
    "        self.relu = nn.ReLU()\n",
    "        \n",
    "    def forward(self, x):\n",
    "        return self.layer_3(self.relu(self.layer_2(self.relu(self.layer_1(x)))))\n",
    "        \n",
    "    def mytrain(self, X_train, y_train, X_val, y_val, loss_fn, optimizer):\n",
    "        torch.manual_seed(0)\n",
    "        torch.cuda.manual_seed(0)\n",
    "        epochs = 3000\n",
    "        X_train = torch.tensor(X_train, dtype=torch.float32, device=device)\n",
    "        y_train = torch.tensor(y_train, dtype=torch.float32, device=device)\n",
    "        X_val = torch.tensor(X_val, dtype=torch.float32, device=device)\n",
    "        y_val = torch.tensor(y_val, dtype=torch.float32, device=device)\n",
    "        \n",
    "        for epoch in range(epochs):\n",
    "            #Training\n",
    "            self.train()\n",
    "            \n",
    "            #Forward pass\n",
    "            y_logist = self(X_train).squeeze()\n",
    "            y_pred = torch.round(torch.sigmoid(y_logist))\n",
    "            \n",
    "            #Calculate loss and accuracy\n",
    "            loss = loss_fn(y_logist, y_train)\n",
    "            \n",
    "            #Optimizer zero grad\n",
    "            optimizer.zero_grad()\n",
    "            \n",
    "            #Loss backward\n",
    "            loss.backward()\n",
    "            \n",
    "            #Optimizer step\n",
    "            optimizer.step()\n",
    "            \n",
    "            #Testing\n",
    "            self.eval()\n",
    "            with torch.inference_mode():\n",
    "                #Forward pass\n",
    "                val_logists = self(X_val).squeeze()\n",
    "                val_preds = torch.round(torch.sigmoid(val_logists))\n",
    "                \n",
    "                #Calculate loss\n",
    "                test_loss = loss_fn(val_logists, y_val)\n",
    "                \n",
    "                \n",
    "                if epoch % 100 == 0:\n",
    "                    y_true_train = y_train.to('cpu').numpy()\n",
    "                    y_pred_train = y_pred.detach().to('cpu').numpy()\n",
    "                    y_true_val = y_val.to('cpu').numpy()\n",
    "                    y_pred_val = val_preds.detach().to('cpu').numpy()\n",
    "                    \n",
    "                    acc = accuracy_score(y_true = y_true_train, y_pred = y_pred_train)\n",
    "                    \n",
    "                    test_acc = accuracy_score(y_true = y_true_val, y_pred = y_pred_val)\n",
    "                    \n",
    "                    print(f\"Epoch: {epoch + 100} | Loss: {loss:.5f} | Train Acc: {acc:.5f} | Val loss: {test_loss:.5f} | Val Acc: {test_acc:.5f}\")\n",
    "                \n",
    "                "
   ]
  },
  {
   "cell_type": "code",
   "execution_count": 18,
   "id": "4949ed97",
   "metadata": {},
   "outputs": [
    {
     "data": {
      "text/plain": [
       "ClassificationNM(\n",
       "  (layer_1): Linear(in_features=2, out_features=10, bias=True)\n",
       "  (layer_2): Linear(in_features=10, out_features=10, bias=True)\n",
       "  (layer_3): Linear(in_features=10, out_features=1, bias=True)\n",
       "  (relu): ReLU()\n",
       ")"
      ]
     },
     "execution_count": 18,
     "metadata": {},
     "output_type": "execute_result"
    }
   ],
   "source": [
    "ClassificationNM1 = ClassificationNM().to(device)\n",
    "ClassificationNM1"
   ]
  },
  {
   "cell_type": "code",
   "execution_count": 19,
   "id": "46fdfc2c",
   "metadata": {},
   "outputs": [],
   "source": [
    "loss_fn = nn.BCEWithLogitsLoss()\n",
    "optimizer = torch.optim.SGD(params= ClassificationNM1.parameters(), lr=0.1)\n"
   ]
  },
  {
   "cell_type": "code",
   "execution_count": 20,
   "id": "5b57319d",
   "metadata": {},
   "outputs": [
    {
     "name": "stderr",
     "output_type": "stream",
     "text": [
      "c:\\Users\\luism\\AppData\\Local\\Programs\\Python\\Python313\\Lib\\site-packages\\sklearn\\metrics\\_classification.py:98: UserWarning: The number of unique classes is greater than 50% of the number of samples.\n",
      "  type_true = type_of_target(y_true, input_name=\"y_true\")\n",
      "c:\\Users\\luism\\AppData\\Local\\Programs\\Python\\Python313\\Lib\\site-packages\\sklearn\\metrics\\_classification.py:98: UserWarning: The number of unique classes is greater than 50% of the number of samples.\n",
      "  type_true = type_of_target(y_true, input_name=\"y_true\")\n",
      "c:\\Users\\luism\\AppData\\Local\\Programs\\Python\\Python313\\Lib\\site-packages\\sklearn\\externals\\array_api_compat\\numpy\\_aliases.py:127: RuntimeWarning: invalid value encountered in cast\n",
      "  return x.astype(dtype=dtype, copy=copy)\n"
     ]
    },
    {
     "name": "stdout",
     "output_type": "stream",
     "text": [
      "Epoch: 100 | Loss: 38.31890 | Train Acc: 0.00000 | Val loss: -977.00354 | Val Acc: 0.00000\n"
     ]
    },
    {
     "ename": "ValueError",
     "evalue": "Input y_pred contains NaN.",
     "output_type": "error",
     "traceback": [
      "\u001b[31m---------------------------------------------------------------------------\u001b[39m",
      "\u001b[31mValueError\u001b[39m                                Traceback (most recent call last)",
      "\u001b[36mCell\u001b[39m\u001b[36m \u001b[39m\u001b[32mIn[20]\u001b[39m\u001b[32m, line 1\u001b[39m\n\u001b[32m----> \u001b[39m\u001b[32m1\u001b[39m \u001b[43mClassificationNM1\u001b[49m\u001b[43m.\u001b[49m\u001b[43mmytrain\u001b[49m\u001b[43m(\u001b[49m\u001b[43mX_train\u001b[49m\u001b[43m,\u001b[49m\u001b[43m \u001b[49m\u001b[43my_train\u001b[49m\u001b[43m,\u001b[49m\u001b[43m \u001b[49m\u001b[43mX_val\u001b[49m\u001b[43m,\u001b[49m\u001b[43m \u001b[49m\u001b[43my_val\u001b[49m\u001b[43m,\u001b[49m\u001b[43m \u001b[49m\u001b[43mloss_fn\u001b[49m\u001b[43m,\u001b[49m\u001b[43m \u001b[49m\u001b[43moptimizer\u001b[49m\u001b[43m)\u001b[49m\n",
      "\u001b[36mCell\u001b[39m\u001b[36m \u001b[39m\u001b[32mIn[17]\u001b[39m\u001b[32m, line 58\u001b[39m, in \u001b[36mClassificationNM.mytrain\u001b[39m\u001b[34m(self, X_train, y_train, X_val, y_val, loss_fn, optimizer)\u001b[39m\n\u001b[32m     55\u001b[39m y_true_val = y_val.to(\u001b[33m'\u001b[39m\u001b[33mcpu\u001b[39m\u001b[33m'\u001b[39m).numpy()\n\u001b[32m     56\u001b[39m y_pred_val = val_preds.detach().to(\u001b[33m'\u001b[39m\u001b[33mcpu\u001b[39m\u001b[33m'\u001b[39m).numpy()\n\u001b[32m---> \u001b[39m\u001b[32m58\u001b[39m acc = \u001b[43maccuracy_score\u001b[49m\u001b[43m(\u001b[49m\u001b[43my_true\u001b[49m\u001b[43m \u001b[49m\u001b[43m=\u001b[49m\u001b[43m \u001b[49m\u001b[43my_true_train\u001b[49m\u001b[43m,\u001b[49m\u001b[43m \u001b[49m\u001b[43my_pred\u001b[49m\u001b[43m \u001b[49m\u001b[43m=\u001b[49m\u001b[43m \u001b[49m\u001b[43my_pred_train\u001b[49m\u001b[43m)\u001b[49m\n\u001b[32m     60\u001b[39m test_acc = accuracy_score(y_true = y_true_val, y_pred = y_pred_val)\n\u001b[32m     62\u001b[39m \u001b[38;5;28mprint\u001b[39m(\u001b[33mf\u001b[39m\u001b[33m\"\u001b[39m\u001b[33mEpoch: \u001b[39m\u001b[38;5;132;01m{\u001b[39;00mepoch\u001b[38;5;250m \u001b[39m+\u001b[38;5;250m \u001b[39m\u001b[32m100\u001b[39m\u001b[38;5;132;01m}\u001b[39;00m\u001b[33m | Loss: \u001b[39m\u001b[38;5;132;01m{\u001b[39;00mloss\u001b[38;5;132;01m:\u001b[39;00m\u001b[33m.5f\u001b[39m\u001b[38;5;132;01m}\u001b[39;00m\u001b[33m | Train Acc: \u001b[39m\u001b[38;5;132;01m{\u001b[39;00macc\u001b[38;5;132;01m:\u001b[39;00m\u001b[33m.5f\u001b[39m\u001b[38;5;132;01m}\u001b[39;00m\u001b[33m | Val loss: \u001b[39m\u001b[38;5;132;01m{\u001b[39;00mtest_loss\u001b[38;5;132;01m:\u001b[39;00m\u001b[33m.5f\u001b[39m\u001b[38;5;132;01m}\u001b[39;00m\u001b[33m | Val Acc: \u001b[39m\u001b[38;5;132;01m{\u001b[39;00mtest_acc\u001b[38;5;132;01m:\u001b[39;00m\u001b[33m.5f\u001b[39m\u001b[38;5;132;01m}\u001b[39;00m\u001b[33m\"\u001b[39m)\n",
      "\u001b[36mFile \u001b[39m\u001b[32mc:\\Users\\luism\\AppData\\Local\\Programs\\Python\\Python313\\Lib\\site-packages\\sklearn\\utils\\_param_validation.py:218\u001b[39m, in \u001b[36mvalidate_params.<locals>.decorator.<locals>.wrapper\u001b[39m\u001b[34m(*args, **kwargs)\u001b[39m\n\u001b[32m    212\u001b[39m \u001b[38;5;28;01mtry\u001b[39;00m:\n\u001b[32m    213\u001b[39m     \u001b[38;5;28;01mwith\u001b[39;00m config_context(\n\u001b[32m    214\u001b[39m         skip_parameter_validation=(\n\u001b[32m    215\u001b[39m             prefer_skip_nested_validation \u001b[38;5;129;01mor\u001b[39;00m global_skip_validation\n\u001b[32m    216\u001b[39m         )\n\u001b[32m    217\u001b[39m     ):\n\u001b[32m--> \u001b[39m\u001b[32m218\u001b[39m         \u001b[38;5;28;01mreturn\u001b[39;00m \u001b[43mfunc\u001b[49m\u001b[43m(\u001b[49m\u001b[43m*\u001b[49m\u001b[43margs\u001b[49m\u001b[43m,\u001b[49m\u001b[43m \u001b[49m\u001b[43m*\u001b[49m\u001b[43m*\u001b[49m\u001b[43mkwargs\u001b[49m\u001b[43m)\u001b[49m\n\u001b[32m    219\u001b[39m \u001b[38;5;28;01mexcept\u001b[39;00m InvalidParameterError \u001b[38;5;28;01mas\u001b[39;00m e:\n\u001b[32m    220\u001b[39m     \u001b[38;5;66;03m# When the function is just a wrapper around an estimator, we allow\u001b[39;00m\n\u001b[32m    221\u001b[39m     \u001b[38;5;66;03m# the function to delegate validation to the estimator, but we replace\u001b[39;00m\n\u001b[32m    222\u001b[39m     \u001b[38;5;66;03m# the name of the estimator by the name of the function in the error\u001b[39;00m\n\u001b[32m    223\u001b[39m     \u001b[38;5;66;03m# message to avoid confusion.\u001b[39;00m\n\u001b[32m    224\u001b[39m     msg = re.sub(\n\u001b[32m    225\u001b[39m         \u001b[33mr\u001b[39m\u001b[33m\"\u001b[39m\u001b[33mparameter of \u001b[39m\u001b[33m\\\u001b[39m\u001b[33mw+ must be\u001b[39m\u001b[33m\"\u001b[39m,\n\u001b[32m    226\u001b[39m         \u001b[33mf\u001b[39m\u001b[33m\"\u001b[39m\u001b[33mparameter of \u001b[39m\u001b[38;5;132;01m{\u001b[39;00mfunc.\u001b[34m__qualname__\u001b[39m\u001b[38;5;132;01m}\u001b[39;00m\u001b[33m must be\u001b[39m\u001b[33m\"\u001b[39m,\n\u001b[32m    227\u001b[39m         \u001b[38;5;28mstr\u001b[39m(e),\n\u001b[32m    228\u001b[39m     )\n",
      "\u001b[36mFile \u001b[39m\u001b[32mc:\\Users\\luism\\AppData\\Local\\Programs\\Python\\Python313\\Lib\\site-packages\\sklearn\\metrics\\_classification.py:359\u001b[39m, in \u001b[36maccuracy_score\u001b[39m\u001b[34m(y_true, y_pred, normalize, sample_weight)\u001b[39m\n\u001b[32m    357\u001b[39m \u001b[38;5;66;03m# Compute accuracy for each possible representation\u001b[39;00m\n\u001b[32m    358\u001b[39m y_true, y_pred = attach_unique(y_true, y_pred)\n\u001b[32m--> \u001b[39m\u001b[32m359\u001b[39m y_type, y_true, y_pred = \u001b[43m_check_targets\u001b[49m\u001b[43m(\u001b[49m\u001b[43my_true\u001b[49m\u001b[43m,\u001b[49m\u001b[43m \u001b[49m\u001b[43my_pred\u001b[49m\u001b[43m)\u001b[49m\n\u001b[32m    360\u001b[39m check_consistent_length(y_true, y_pred, sample_weight)\n\u001b[32m    362\u001b[39m \u001b[38;5;28;01mif\u001b[39;00m y_type.startswith(\u001b[33m\"\u001b[39m\u001b[33mmultilabel\u001b[39m\u001b[33m\"\u001b[39m):\n",
      "\u001b[36mFile \u001b[39m\u001b[32mc:\\Users\\luism\\AppData\\Local\\Programs\\Python\\Python313\\Lib\\site-packages\\sklearn\\metrics\\_classification.py:99\u001b[39m, in \u001b[36m_check_targets\u001b[39m\u001b[34m(y_true, y_pred)\u001b[39m\n\u001b[32m     97\u001b[39m check_consistent_length(y_true, y_pred)\n\u001b[32m     98\u001b[39m type_true = type_of_target(y_true, input_name=\u001b[33m\"\u001b[39m\u001b[33my_true\u001b[39m\u001b[33m\"\u001b[39m)\n\u001b[32m---> \u001b[39m\u001b[32m99\u001b[39m type_pred = \u001b[43mtype_of_target\u001b[49m\u001b[43m(\u001b[49m\u001b[43my_pred\u001b[49m\u001b[43m,\u001b[49m\u001b[43m \u001b[49m\u001b[43minput_name\u001b[49m\u001b[43m=\u001b[49m\u001b[33;43m\"\u001b[39;49m\u001b[33;43my_pred\u001b[39;49m\u001b[33;43m\"\u001b[39;49m\u001b[43m)\u001b[49m\n\u001b[32m    101\u001b[39m y_type = {type_true, type_pred}\n\u001b[32m    102\u001b[39m \u001b[38;5;28;01mif\u001b[39;00m y_type == {\u001b[33m\"\u001b[39m\u001b[33mbinary\u001b[39m\u001b[33m\"\u001b[39m, \u001b[33m\"\u001b[39m\u001b[33mmulticlass\u001b[39m\u001b[33m\"\u001b[39m}:\n",
      "\u001b[36mFile \u001b[39m\u001b[32mc:\\Users\\luism\\AppData\\Local\\Programs\\Python\\Python313\\Lib\\site-packages\\sklearn\\utils\\multiclass.py:410\u001b[39m, in \u001b[36mtype_of_target\u001b[39m\u001b[34m(y, input_name, raise_unknown)\u001b[39m\n\u001b[32m    408\u001b[39m     data = y.data \u001b[38;5;28;01mif\u001b[39;00m issparse(y) \u001b[38;5;28;01melse\u001b[39;00m y\n\u001b[32m    409\u001b[39m     \u001b[38;5;28;01mif\u001b[39;00m xp.any(data != xp.astype(data, \u001b[38;5;28mint\u001b[39m)):\n\u001b[32m--> \u001b[39m\u001b[32m410\u001b[39m         \u001b[43m_assert_all_finite\u001b[49m\u001b[43m(\u001b[49m\u001b[43mdata\u001b[49m\u001b[43m,\u001b[49m\u001b[43m \u001b[49m\u001b[43minput_name\u001b[49m\u001b[43m=\u001b[49m\u001b[43minput_name\u001b[49m\u001b[43m)\u001b[49m\n\u001b[32m    411\u001b[39m         \u001b[38;5;28;01mreturn\u001b[39;00m \u001b[33m\"\u001b[39m\u001b[33mcontinuous\u001b[39m\u001b[33m\"\u001b[39m + suffix\n\u001b[32m    413\u001b[39m \u001b[38;5;66;03m# Check multiclass\u001b[39;00m\n",
      "\u001b[36mFile \u001b[39m\u001b[32mc:\\Users\\luism\\AppData\\Local\\Programs\\Python\\Python313\\Lib\\site-packages\\sklearn\\utils\\validation.py:120\u001b[39m, in \u001b[36m_assert_all_finite\u001b[39m\u001b[34m(X, allow_nan, msg_dtype, estimator_name, input_name)\u001b[39m\n\u001b[32m    117\u001b[39m \u001b[38;5;28;01mif\u001b[39;00m first_pass_isfinite:\n\u001b[32m    118\u001b[39m     \u001b[38;5;28;01mreturn\u001b[39;00m\n\u001b[32m--> \u001b[39m\u001b[32m120\u001b[39m \u001b[43m_assert_all_finite_element_wise\u001b[49m\u001b[43m(\u001b[49m\n\u001b[32m    121\u001b[39m \u001b[43m    \u001b[49m\u001b[43mX\u001b[49m\u001b[43m,\u001b[49m\n\u001b[32m    122\u001b[39m \u001b[43m    \u001b[49m\u001b[43mxp\u001b[49m\u001b[43m=\u001b[49m\u001b[43mxp\u001b[49m\u001b[43m,\u001b[49m\n\u001b[32m    123\u001b[39m \u001b[43m    \u001b[49m\u001b[43mallow_nan\u001b[49m\u001b[43m=\u001b[49m\u001b[43mallow_nan\u001b[49m\u001b[43m,\u001b[49m\n\u001b[32m    124\u001b[39m \u001b[43m    \u001b[49m\u001b[43mmsg_dtype\u001b[49m\u001b[43m=\u001b[49m\u001b[43mmsg_dtype\u001b[49m\u001b[43m,\u001b[49m\n\u001b[32m    125\u001b[39m \u001b[43m    \u001b[49m\u001b[43mestimator_name\u001b[49m\u001b[43m=\u001b[49m\u001b[43mestimator_name\u001b[49m\u001b[43m,\u001b[49m\n\u001b[32m    126\u001b[39m \u001b[43m    \u001b[49m\u001b[43minput_name\u001b[49m\u001b[43m=\u001b[49m\u001b[43minput_name\u001b[49m\u001b[43m,\u001b[49m\n\u001b[32m    127\u001b[39m \u001b[43m\u001b[49m\u001b[43m)\u001b[49m\n",
      "\u001b[36mFile \u001b[39m\u001b[32mc:\\Users\\luism\\AppData\\Local\\Programs\\Python\\Python313\\Lib\\site-packages\\sklearn\\utils\\validation.py:169\u001b[39m, in \u001b[36m_assert_all_finite_element_wise\u001b[39m\u001b[34m(X, xp, allow_nan, msg_dtype, estimator_name, input_name)\u001b[39m\n\u001b[32m    152\u001b[39m \u001b[38;5;28;01mif\u001b[39;00m estimator_name \u001b[38;5;129;01mand\u001b[39;00m input_name == \u001b[33m\"\u001b[39m\u001b[33mX\u001b[39m\u001b[33m\"\u001b[39m \u001b[38;5;129;01mand\u001b[39;00m has_nan_error:\n\u001b[32m    153\u001b[39m     \u001b[38;5;66;03m# Improve the error message on how to handle missing values in\u001b[39;00m\n\u001b[32m    154\u001b[39m     \u001b[38;5;66;03m# scikit-learn.\u001b[39;00m\n\u001b[32m    155\u001b[39m     msg_err += (\n\u001b[32m    156\u001b[39m         \u001b[33mf\u001b[39m\u001b[33m\"\u001b[39m\u001b[38;5;130;01m\\n\u001b[39;00m\u001b[38;5;132;01m{\u001b[39;00mestimator_name\u001b[38;5;132;01m}\u001b[39;00m\u001b[33m does not accept missing values\u001b[39m\u001b[33m\"\u001b[39m\n\u001b[32m    157\u001b[39m         \u001b[33m\"\u001b[39m\u001b[33m encoded as NaN natively. For supervised learning, you might want\u001b[39m\u001b[33m\"\u001b[39m\n\u001b[32m   (...)\u001b[39m\u001b[32m    167\u001b[39m         \u001b[33m\"\u001b[39m\u001b[33m#estimators-that-handle-nan-values\u001b[39m\u001b[33m\"\u001b[39m\n\u001b[32m    168\u001b[39m     )\n\u001b[32m--> \u001b[39m\u001b[32m169\u001b[39m \u001b[38;5;28;01mraise\u001b[39;00m \u001b[38;5;167;01mValueError\u001b[39;00m(msg_err)\n",
      "\u001b[31mValueError\u001b[39m: Input y_pred contains NaN."
     ]
    }
   ],
   "source": [
    "ClassificationNM1.mytrain(X_train, y_train, X_val, y_val, loss_fn, optimizer)"
   ]
  },
  {
   "cell_type": "code",
   "execution_count": null,
   "id": "1e3a2341",
   "metadata": {},
   "outputs": [
    {
     "data": {
      "image/png": "[encoded data removed]",
      "text/plain": [
       "<Figure size 640x480 with 2 Axes>"
      ]
     },
     "metadata": {},
     "output_type": "display_data"
    }
   ],
   "source": [
    "X_test = torch.tensor(X_test, dtype=torch.float32, device=device)\n",
    "test_logists = ClassificationNM1(X_test).squeeze()\n",
    "test_pred = torch.round(torch.sigmoid(test_logists))\n",
    "y_pred_test = test_pred.detach().to('cpu').numpy()\n",
    "conf_mat = confusion_matrix(y_test, y_pred_test)\n",
    "disp = ConfusionMatrixDisplay(confusion_matrix=conf_mat, display_labels=['No Diabetes', 'Diabetes'])\n",
    "disp.plot(cmap=plt.cm.Blues)\n",
    "plt.title('Confusion Matrix')\n",
    "plt.show()"
   ]
  },
  {
   "cell_type": "code",
   "execution_count": null,
   "id": "619d6c05",
   "metadata": {},
   "outputs": [
    {
     "name": "stdout",
     "output_type": "stream",
     "text": [
      "              precision    recall  f1-score   support\n",
      "\n",
      "           0       0.83      0.87      0.85       105\n",
      "           1       0.69      0.63      0.66        49\n",
      "\n",
      "    accuracy                           0.79       154\n",
      "   macro avg       0.76      0.75      0.76       154\n",
      "weighted avg       0.79      0.79      0.79       154\n",
      "\n"
     ]
    }
   ],
   "source": [
    "print(classification_report(y_test, y_pred_test))"
   ]
  }
 ],
 "metadata": {
  "kernelspec": {
   "display_name": "Python 3",
   "language": "python",
   "name": "python3"
  },
  "language_info": {
   "codemirror_mode": {
    "name": "ipython",
    "version": 3
   },
   "file_extension": ".py",
   "mimetype": "text/x-python",
   "name": "python",
   "nbconvert_exporter": "python",
   "pygments_lexer": "ipython3",
   "version": "3.13.1"
  }
 },
 "nbformat": 4,
 "nbformat_minor": 5
}
